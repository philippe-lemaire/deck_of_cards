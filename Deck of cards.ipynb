{
 "cells": [
  {
   "cell_type": "markdown",
   "id": "7a774b68",
   "metadata": {},
   "source": [
    "# Example of class usage"
   ]
  },
  {
   "cell_type": "markdown",
   "id": "314bcc0f",
   "metadata": {
    "ExecuteTime": {
     "end_time": "2021-11-21T09:09:11.745244Z",
     "start_time": "2021-11-21T09:09:11.739980Z"
    }
   },
   "source": [
    "## Let's create a deck of cards as a class"
   ]
  },
  {
   "cell_type": "markdown",
   "id": "ebbd936e",
   "metadata": {
    "ExecuteTime": {
     "end_time": "2021-11-21T09:09:28.466466Z",
     "start_time": "2021-11-21T09:09:28.462435Z"
    }
   },
   "source": [
    "### First, let's create a card class"
   ]
  },
  {
   "cell_type": "code",
   "execution_count": null,
   "id": "6c474053",
   "metadata": {
    "ExecuteTime": {
     "end_time": "2021-11-22T07:53:14.934043Z",
     "start_time": "2021-11-22T07:53:14.928455Z"
    }
   },
   "outputs": [],
   "source": [
    "class Card:\n",
    "    def __init__(self, rank, suit):\n",
    "        self.rank = rank\n",
    "        self.suit = suit\n"
   ]
  },
  {
   "cell_type": "markdown",
   "id": "8161ff74",
   "metadata": {
    "ExecuteTime": {
     "end_time": "2021-11-21T09:17:36.501812Z",
     "start_time": "2021-11-21T09:17:36.497355Z"
    }
   },
   "source": [
    "### Let's test our Card class"
   ]
  },
  {
   "cell_type": "code",
   "execution_count": null,
   "id": "5e319f79",
   "metadata": {
    "ExecuteTime": {
     "end_time": "2021-11-22T07:53:15.337008Z",
     "start_time": "2021-11-22T07:53:15.333457Z"
    }
   },
   "outputs": [],
   "source": [
    "ace_of_spades = Card('Ace', 'Spades')"
   ]
  },
  {
   "cell_type": "code",
   "execution_count": null,
   "id": "9182219c",
   "metadata": {
    "ExecuteTime": {
     "end_time": "2021-11-22T07:53:15.763148Z",
     "start_time": "2021-11-22T07:53:15.757009Z"
    }
   },
   "outputs": [],
   "source": [
    "ace_of_spades"
   ]
  },
  {
   "cell_type": "code",
   "execution_count": null,
   "id": "36b87535",
   "metadata": {
    "ExecuteTime": {
     "end_time": "2021-11-22T07:51:07.849627Z",
     "start_time": "2021-11-22T07:51:07.843212Z"
    }
   },
   "outputs": [],
   "source": [
    "ace_of_spades"
   ]
  },
  {
   "cell_type": "code",
   "execution_count": null,
   "id": "e78bede7",
   "metadata": {
    "ExecuteTime": {
     "end_time": "2021-11-21T10:02:37.950614Z",
     "start_time": "2021-11-21T10:02:37.946167Z"
    }
   },
   "outputs": [],
   "source": [
    "### TODO: add a nice __repr__ method to our Card class"
   ]
  },
  {
   "cell_type": "markdown",
   "id": "11aa44d8",
   "metadata": {
    "ExecuteTime": {
     "end_time": "2021-11-21T09:17:37.067512Z",
     "start_time": "2021-11-21T09:17:37.063650Z"
    }
   },
   "source": [
    "### Let's create the Deck class"
   ]
  },
  {
   "cell_type": "code",
   "execution_count": null,
   "id": "348d0a53",
   "metadata": {
    "ExecuteTime": {
     "end_time": "2021-11-22T07:58:27.465246Z",
     "start_time": "2021-11-22T07:58:27.463036Z"
    }
   },
   "outputs": [],
   "source": [
    "import random"
   ]
  },
  {
   "cell_type": "code",
   "execution_count": null,
   "id": "63423d50",
   "metadata": {
    "ExecuteTime": {
     "end_time": "2021-11-22T08:09:30.515328Z",
     "start_time": "2021-11-22T08:09:30.508062Z"
    }
   },
   "outputs": [],
   "source": [
    "class Deck:\n",
    "    ranks = [str(n) for n in range(2,11)] + list('JQKA')\n",
    "    suits = 'spades hearts diamonds clubs'.split()\n",
    "    \n",
    "    def __init__(self):\n",
    "        self.cards = [Card(rank, suit) for suit in self.suits for rank in self.ranks]\n",
    "        \n",
    "    def __len__(self):\n",
    "        return len(self.cards)\n",
    "    \n",
    "    def __getitem__(self, position):\n",
    "        return self.cards[position]\n",
    "    \n",
    "    def __repr__(self):\n",
    "        return \"Deck()\"\n",
    "    \n",
    "           \n",
    "            \n",
    "        \n",
    "    "
   ]
  },
  {
   "cell_type": "code",
   "execution_count": null,
   "id": "5df9ac2b",
   "metadata": {
    "ExecuteTime": {
     "end_time": "2021-11-22T08:09:30.634039Z",
     "start_time": "2021-11-22T08:09:30.629981Z"
    }
   },
   "outputs": [],
   "source": [
    "deck = Deck()"
   ]
  },
  {
   "cell_type": "code",
   "execution_count": null,
   "id": "f327fc4e",
   "metadata": {
    "ExecuteTime": {
     "end_time": "2021-11-22T08:09:30.782800Z",
     "start_time": "2021-11-22T08:09:30.777301Z"
    }
   },
   "outputs": [],
   "source": [
    "deck"
   ]
  },
  {
   "cell_type": "code",
   "execution_count": null,
   "id": "213a2d38",
   "metadata": {
    "ExecuteTime": {
     "end_time": "2021-11-22T08:09:30.914665Z",
     "start_time": "2021-11-22T08:09:30.910884Z"
    }
   },
   "outputs": [],
   "source": [
    "deck[0]"
   ]
  },
  {
   "cell_type": "code",
   "execution_count": null,
   "id": "6413a765",
   "metadata": {
    "ExecuteTime": {
     "end_time": "2021-11-22T08:09:31.071611Z",
     "start_time": "2021-11-22T08:09:31.066592Z"
    }
   },
   "outputs": [],
   "source": [
    "deck[-1]"
   ]
  },
  {
   "cell_type": "code",
   "execution_count": null,
   "id": "75156ce1",
   "metadata": {
    "ExecuteTime": {
     "end_time": "2021-11-22T08:09:31.213971Z",
     "start_time": "2021-11-22T08:09:31.207641Z"
    }
   },
   "outputs": [],
   "source": [
    "len(deck)"
   ]
  },
  {
   "cell_type": "code",
   "execution_count": null,
   "id": "9d4bbbd8",
   "metadata": {
    "ExecuteTime": {
     "end_time": "2021-11-22T08:09:31.630100Z",
     "start_time": "2021-11-22T08:09:31.626068Z"
    }
   },
   "outputs": [],
   "source": [
    "deck[0:13]"
   ]
  },
  {
   "cell_type": "markdown",
   "id": "b10a4691",
   "metadata": {
    "ExecuteTime": {
     "end_time": "2021-11-21T09:20:12.185039Z",
     "start_time": "2021-11-21T09:20:12.180189Z"
    }
   },
   "source": [
    "# Let's add a method to shuffle the deck"
   ]
  },
  {
   "cell_type": "code",
   "execution_count": null,
   "id": "b13caa92",
   "metadata": {
    "ExecuteTime": {
     "end_time": "2021-11-22T08:09:32.345814Z",
     "start_time": "2021-11-22T08:09:32.342839Z"
    }
   },
   "outputs": [],
   "source": [
    "### We want to be able to run deck.shuffle() to shuffle the cards in the deck. We need to add a method in our class."
   ]
  },
  {
   "cell_type": "code",
   "execution_count": null,
   "id": "f3506dc3",
   "metadata": {
    "ExecuteTime": {
     "end_time": "2021-11-22T08:09:32.521976Z",
     "start_time": "2021-11-22T08:09:32.519411Z"
    }
   },
   "outputs": [],
   "source": [
    "deck.shuffle()"
   ]
  },
  {
   "cell_type": "code",
   "execution_count": null,
   "id": "9ad0e058",
   "metadata": {
    "ExecuteTime": {
     "end_time": "2021-11-22T08:09:32.676673Z",
     "start_time": "2021-11-22T08:09:32.672889Z"
    }
   },
   "outputs": [],
   "source": [
    "deck[0]"
   ]
  },
  {
   "cell_type": "markdown",
   "id": "bda5cbcc",
   "metadata": {},
   "source": [
    "# Let's add a draw(n) method to draw cards from the deckm"
   ]
  },
  {
   "cell_type": "code",
   "execution_count": null,
   "id": "7b73dc07",
   "metadata": {},
   "outputs": [],
   "source": []
  }
 ],
 "metadata": {
  "kernelspec": {
   "display_name": "Python 3 (ipykernel)",
   "language": "python",
   "name": "python3"
  },
  "language_info": {
   "codemirror_mode": {
    "name": "ipython",
    "version": 3
   },
   "file_extension": ".py",
   "mimetype": "text/x-python",
   "name": "python",
   "nbconvert_exporter": "python",
   "pygments_lexer": "ipython3",
   "version": "3.8.12"
  },
  "toc": {
   "base_numbering": 1,
   "nav_menu": {},
   "number_sections": true,
   "sideBar": true,
   "skip_h1_title": false,
   "title_cell": "Table of Contents",
   "title_sidebar": "Contents",
   "toc_cell": false,
   "toc_position": {},
   "toc_section_display": true,
   "toc_window_display": false
  }
 },
 "nbformat": 4,
 "nbformat_minor": 5
}
