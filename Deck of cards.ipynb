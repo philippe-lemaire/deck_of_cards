{
 "cells": [
  {
   "cell_type": "markdown",
   "id": "7a774b68",
   "metadata": {},
   "source": [
    "# Example of class usage"
   ]
  },
  {
   "cell_type": "markdown",
   "id": "314bcc0f",
   "metadata": {
    "ExecuteTime": {
     "end_time": "2021-11-21T09:09:11.745244Z",
     "start_time": "2021-11-21T09:09:11.739980Z"
    }
   },
   "source": [
    "## Let's create a deck of cards as a class"
   ]
  },
  {
   "cell_type": "markdown",
   "id": "ebbd936e",
   "metadata": {
    "ExecuteTime": {
     "end_time": "2021-11-21T09:09:28.466466Z",
     "start_time": "2021-11-21T09:09:28.462435Z"
    }
   },
   "source": [
    "### First, let's create a card class"
   ]
  },
  {
   "cell_type": "code",
   "execution_count": null,
   "id": "6c474053",
   "metadata": {
    "ExecuteTime": {
     "end_time": "2021-11-21T09:17:34.803873Z",
     "start_time": "2021-11-21T09:17:34.797542Z"
    }
   },
   "outputs": [],
   "source": [
    "class Card:\n",
    "    def __init__(self, rank, suit):\n",
    "        self.rank = rank\n",
    "        self.suit = suit"
   ]
  },
  {
   "cell_type": "markdown",
   "id": "8161ff74",
   "metadata": {
    "ExecuteTime": {
     "end_time": "2021-11-21T09:17:36.501812Z",
     "start_time": "2021-11-21T09:17:36.497355Z"
    }
   },
   "source": [
    "### Let's test our Card class"
   ]
  },
  {
   "cell_type": "code",
   "execution_count": null,
   "id": "5e319f79",
   "metadata": {
    "ExecuteTime": {
     "end_time": "2021-11-21T09:42:01.239153Z",
     "start_time": "2021-11-21T09:42:01.158387Z"
    }
   },
   "outputs": [],
   "source": [
    "ace_of_spades = Card('Ace', 'Spades')"
   ]
  },
  {
   "cell_type": "code",
   "execution_count": null,
   "id": "9182219c",
   "metadata": {
    "ExecuteTime": {
     "end_time": "2021-11-21T09:42:02.381377Z",
     "start_time": "2021-11-21T09:42:02.369996Z"
    }
   },
   "outputs": [],
   "source": [
    "ace_of_spades"
   ]
  },
  {
   "cell_type": "markdown",
   "id": "d3f3060d",
   "metadata": {
    "ExecuteTime": {
     "end_time": "2021-11-21T09:17:36.915685Z",
     "start_time": "2021-11-21T09:17:36.911404Z"
    }
   },
   "source": [
    "### TODO: add a nice __repr__ method to our Card class"
   ]
  },
  {
   "cell_type": "markdown",
   "id": "11aa44d8",
   "metadata": {
    "ExecuteTime": {
     "end_time": "2021-11-21T09:17:37.067512Z",
     "start_time": "2021-11-21T09:17:37.063650Z"
    }
   },
   "source": [
    "### Let's create the Deck class"
   ]
  },
  {
   "cell_type": "code",
   "execution_count": null,
   "id": "63423d50",
   "metadata": {
    "ExecuteTime": {
     "end_time": "2021-11-21T09:24:13.146779Z",
     "start_time": "2021-11-21T09:24:13.136486Z"
    }
   },
   "outputs": [],
   "source": [
    "class Deck:\n",
    "    ranks = [str(n) for n in range(2,11)] + list('JQKA')\n",
    "    suits = 'spades hearts diamonds clubs'.split()\n",
    "    \n",
    "    def __init__(self):\n",
    "        self.cards = [Card(rank, suit) for suit in self.suits for rank in self.ranks]\n",
    "        \n",
    "    def __len__(self):\n",
    "        return len(self.cards)\n",
    "    \n",
    "    def __getitem__(self, position):\n",
    "        return self.cards[position]\n",
    "    \n",
    "    def __repr__(self):\n",
    "        return \"Deck()\"\n",
    "    "
   ]
  },
  {
   "cell_type": "code",
   "execution_count": null,
   "id": "5df9ac2b",
   "metadata": {
    "ExecuteTime": {
     "end_time": "2021-11-21T09:23:01.970756Z",
     "start_time": "2021-11-21T09:23:01.965988Z"
    }
   },
   "outputs": [],
   "source": [
    "deck = Deck()"
   ]
  },
  {
   "cell_type": "code",
   "execution_count": null,
   "id": "f327fc4e",
   "metadata": {
    "ExecuteTime": {
     "end_time": "2021-11-21T09:18:49.742144Z",
     "start_time": "2021-11-21T09:18:49.734598Z"
    }
   },
   "outputs": [],
   "source": [
    "deck"
   ]
  },
  {
   "cell_type": "code",
   "execution_count": null,
   "id": "213a2d38",
   "metadata": {
    "ExecuteTime": {
     "end_time": "2021-11-21T09:18:49.903572Z",
     "start_time": "2021-11-21T09:18:49.895632Z"
    }
   },
   "outputs": [],
   "source": [
    "deck[0]"
   ]
  },
  {
   "cell_type": "code",
   "execution_count": null,
   "id": "6413a765",
   "metadata": {
    "ExecuteTime": {
     "end_time": "2021-11-21T09:18:50.072459Z",
     "start_time": "2021-11-21T09:18:50.064303Z"
    }
   },
   "outputs": [],
   "source": [
    "deck[-1]"
   ]
  },
  {
   "cell_type": "code",
   "execution_count": null,
   "id": "cc2e0f4e",
   "metadata": {
    "ExecuteTime": {
     "end_time": "2021-11-21T09:18:50.214825Z",
     "start_time": "2021-11-21T09:18:50.200519Z"
    }
   },
   "outputs": [],
   "source": [
    "for card in deck:\n",
    "    print(card)"
   ]
  },
  {
   "cell_type": "code",
   "execution_count": null,
   "id": "75156ce1",
   "metadata": {
    "ExecuteTime": {
     "end_time": "2021-11-21T09:18:50.358644Z",
     "start_time": "2021-11-21T09:18:50.352224Z"
    }
   },
   "outputs": [],
   "source": [
    "len(deck)"
   ]
  },
  {
   "cell_type": "code",
   "execution_count": null,
   "id": "9d4bbbd8",
   "metadata": {
    "ExecuteTime": {
     "end_time": "2021-11-21T09:19:45.947359Z",
     "start_time": "2021-11-21T09:19:45.939817Z"
    }
   },
   "outputs": [],
   "source": [
    "deck[0:13]"
   ]
  },
  {
   "cell_type": "markdown",
   "id": "b10a4691",
   "metadata": {
    "ExecuteTime": {
     "end_time": "2021-11-21T09:20:12.185039Z",
     "start_time": "2021-11-21T09:20:12.180189Z"
    }
   },
   "source": [
    "# Let's add a method to shuffle the deck"
   ]
  },
  {
   "cell_type": "code",
   "execution_count": null,
   "id": "dc7c3016",
   "metadata": {
    "ExecuteTime": {
     "end_time": "2021-11-21T09:24:18.338036Z",
     "start_time": "2021-11-21T09:24:18.333727Z"
    }
   },
   "outputs": [],
   "source": [
    "deck.shuffle()"
   ]
  },
  {
   "cell_type": "code",
   "execution_count": null,
   "id": "2f559747",
   "metadata": {
    "ExecuteTime": {
     "end_time": "2021-11-21T09:24:24.386499Z",
     "start_time": "2021-11-21T09:24:24.372564Z"
    }
   },
   "outputs": [],
   "source": [
    "deck[0:13]"
   ]
  },
  {
   "cell_type": "code",
   "execution_count": null,
   "id": "f3506dc3",
   "metadata": {},
   "outputs": [],
   "source": []
  }
 ],
 "metadata": {
  "kernelspec": {
   "display_name": "Python 3 (ipykernel)",
   "language": "python",
   "name": "python3"
  },
  "language_info": {
   "codemirror_mode": {
    "name": "ipython",
    "version": 3
   },
   "file_extension": ".py",
   "mimetype": "text/x-python",
   "name": "python",
   "nbconvert_exporter": "python",
   "pygments_lexer": "ipython3",
   "version": "3.8.12"
  },
  "toc": {
   "base_numbering": 1,
   "nav_menu": {},
   "number_sections": true,
   "sideBar": true,
   "skip_h1_title": false,
   "title_cell": "Table of Contents",
   "title_sidebar": "Contents",
   "toc_cell": false,
   "toc_position": {},
   "toc_section_display": true,
   "toc_window_display": false
  }
 },
 "nbformat": 4,
 "nbformat_minor": 5
}
