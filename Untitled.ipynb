{
 "cells": [
  {
   "cell_type": "code",
   "execution_count": 10,
   "id": "69349b47",
   "metadata": {
    "ExecuteTime": {
     "end_time": "2021-11-22T07:47:02.994979Z",
     "start_time": "2021-11-22T07:47:02.991900Z"
    }
   },
   "outputs": [],
   "source": [
    "class Student:\n",
    "    def __init__(self, first_name, last_name, class_, age):\n",
    "        self.first_name = first_name\n",
    "        self.last_name = last_name\n",
    "        self.class_ = class_\n",
    "        self.age = age\n",
    "        \n",
    "    def say_hello(self):\n",
    "        return f'Hello there, I am {self.first_name}'\n"
   ]
  },
  {
   "cell_type": "code",
   "execution_count": 11,
   "id": "a68625bc",
   "metadata": {
    "ExecuteTime": {
     "end_time": "2021-11-22T07:47:09.776488Z",
     "start_time": "2021-11-22T07:47:09.774231Z"
    }
   },
   "outputs": [],
   "source": [
    "student1 = Student('Philippe', 'Lemaire', 'Teacher', 40)"
   ]
  },
  {
   "cell_type": "code",
   "execution_count": 12,
   "id": "4a635c27",
   "metadata": {
    "ExecuteTime": {
     "end_time": "2021-11-22T07:47:10.465956Z",
     "start_time": "2021-11-22T07:47:10.461846Z"
    }
   },
   "outputs": [
    {
     "data": {
      "text/plain": [
       "True"
      ]
     },
     "execution_count": 12,
     "metadata": {},
     "output_type": "execute_result"
    }
   ],
   "source": [
    "student1.age > 21"
   ]
  },
  {
   "cell_type": "code",
   "execution_count": 13,
   "id": "6eb85b12",
   "metadata": {
    "ExecuteTime": {
     "end_time": "2021-11-22T07:47:10.790502Z",
     "start_time": "2021-11-22T07:47:10.787019Z"
    }
   },
   "outputs": [],
   "source": [
    "student2 = Student('Édouard', 'Balladur', 'Teacher', 80)"
   ]
  },
  {
   "cell_type": "code",
   "execution_count": 14,
   "id": "ffac686c",
   "metadata": {
    "ExecuteTime": {
     "end_time": "2021-11-22T07:47:10.930180Z",
     "start_time": "2021-11-22T07:47:10.925002Z"
    }
   },
   "outputs": [
    {
     "data": {
      "text/plain": [
       "False"
      ]
     },
     "execution_count": 14,
     "metadata": {},
     "output_type": "execute_result"
    }
   ],
   "source": [
    "student1.age > student2.age"
   ]
  },
  {
   "cell_type": "code",
   "execution_count": 15,
   "id": "0b802931",
   "metadata": {
    "ExecuteTime": {
     "end_time": "2021-11-22T07:47:19.851138Z",
     "start_time": "2021-11-22T07:47:19.844549Z"
    }
   },
   "outputs": [
    {
     "data": {
      "text/plain": [
       "'Hello there, I am Philippe'"
      ]
     },
     "execution_count": 15,
     "metadata": {},
     "output_type": "execute_result"
    }
   ],
   "source": [
    "student1.say_hello()"
   ]
  },
  {
   "cell_type": "code",
   "execution_count": null,
   "id": "01b4cd25",
   "metadata": {},
   "outputs": [],
   "source": []
  }
 ],
 "metadata": {
  "kernelspec": {
   "display_name": "Python 3 (ipykernel)",
   "language": "python",
   "name": "python3"
  },
  "language_info": {
   "codemirror_mode": {
    "name": "ipython",
    "version": 3
   },
   "file_extension": ".py",
   "mimetype": "text/x-python",
   "name": "python",
   "nbconvert_exporter": "python",
   "pygments_lexer": "ipython3",
   "version": "3.8.12"
  },
  "toc": {
   "base_numbering": 1,
   "nav_menu": {},
   "number_sections": true,
   "sideBar": true,
   "skip_h1_title": false,
   "title_cell": "Table of Contents",
   "title_sidebar": "Contents",
   "toc_cell": false,
   "toc_position": {},
   "toc_section_display": true,
   "toc_window_display": false
  }
 },
 "nbformat": 4,
 "nbformat_minor": 5
}
