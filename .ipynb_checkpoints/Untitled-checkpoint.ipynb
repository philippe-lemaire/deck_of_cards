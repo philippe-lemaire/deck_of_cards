{
 "cells": [
  {
   "cell_type": "code",
   "execution_count": 1,
   "id": "d3ed5d8f",
   "metadata": {
    "ExecuteTime": {
     "end_time": "2021-11-22T07:41:49.148054Z",
     "start_time": "2021-11-22T07:41:49.144186Z"
    }
   },
   "outputs": [],
   "source": [
    "class Student:\n",
    "    def __init__(self, first_name, last_name, class_, age):\n",
    "        self.first_name = first_name\n",
    "        self.last_name = last_name\n",
    "        self.class_ = class_\n",
    "        self.age = age\n"
   ]
  },
  {
   "cell_type": "code",
   "execution_count": 3,
   "id": "7feb2dcd",
   "metadata": {
    "ExecuteTime": {
     "end_time": "2021-11-22T07:42:24.262310Z",
     "start_time": "2021-11-22T07:42:24.258736Z"
    }
   },
   "outputs": [],
   "source": [
    "student1 = Student('Philippe', 'Lemaire', 'Teacher', 40)"
   ]
  },
  {
   "cell_type": "code",
   "execution_count": 7,
   "id": "a97d53f3",
   "metadata": {
    "ExecuteTime": {
     "end_time": "2021-11-22T07:43:08.427679Z",
     "start_time": "2021-11-22T07:43:08.418959Z"
    }
   },
   "outputs": [
    {
     "data": {
      "text/plain": [
       "True"
      ]
     },
     "execution_count": 7,
     "metadata": {},
     "output_type": "execute_result"
    }
   ],
   "source": [
    "student1.age > 21"
   ]
  },
  {
   "cell_type": "code",
   "execution_count": null,
   "id": "828c18db",
   "metadata": {},
   "outputs": [],
   "source": []
  }
 ],
 "metadata": {
  "kernelspec": {
   "display_name": "Python 3 (ipykernel)",
   "language": "python",
   "name": "python3"
  },
  "language_info": {
   "codemirror_mode": {
    "name": "ipython",
    "version": 3
   },
   "file_extension": ".py",
   "mimetype": "text/x-python",
   "name": "python",
   "nbconvert_exporter": "python",
   "pygments_lexer": "ipython3",
   "version": "3.8.12"
  },
  "toc": {
   "base_numbering": 1,
   "nav_menu": {},
   "number_sections": true,
   "sideBar": true,
   "skip_h1_title": false,
   "title_cell": "Table of Contents",
   "title_sidebar": "Contents",
   "toc_cell": false,
   "toc_position": {},
   "toc_section_display": true,
   "toc_window_display": false
  }
 },
 "nbformat": 4,
 "nbformat_minor": 5
}
